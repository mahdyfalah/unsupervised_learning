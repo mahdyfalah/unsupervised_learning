{
 "cells": [
  {
   "cell_type": "code",
   "execution_count": 3,
   "metadata": {},
   "outputs": [
    {
     "name": "stdout",
     "output_type": "stream",
     "text": [
      "[[-1.         -2.          1.33333333  0.        ]\n",
      " [-1.          4.         -4.66666667  0.        ]\n",
      " [ 2.         -2.          3.33333333  0.        ]]\n",
      "3 4\n",
      "[[  3.          -3.           5.           0.        ]\n",
      " [ -3.          12.         -14.           0.        ]\n",
      " [  5.         -14.          17.33333333   0.        ]\n",
      " [  0.           0.           0.           0.        ]]\n",
      "[[  3.          -3.           5.           0.        ]\n",
      " [ -3.          12.         -14.           0.        ]\n",
      " [  5.         -14.          17.33333333   0.        ]\n",
      " [  0.           0.           0.           0.        ]]\n"
     ]
    }
   ],
   "source": [
    "#1\n",
    "import numpy as np\n",
    "\n",
    "X = np.array([\n",
    "            [0, 0, 6, 0],\n",
    "            [0, 6, 0, 0],\n",
    "            [3, 0, 8, 0]\n",
    "            ])\n",
    "X = X - np.mean(X, axis=0)\n",
    "print(X)\n",
    "\n",
    "n,m = X.shape\n",
    "print(n,m)\n",
    "\n",
    "cov = (X.transpose() @ X)/(n-1)\n",
    "print(cov)\n",
    "\n",
    "cov_np = np.cov(X, rowvar = False)\n",
    "print(cov_np)\n"
   ]
  },
  {
   "cell_type": "code",
   "execution_count": 2,
   "metadata": {},
   "outputs": [
    {
     "name": "stdout",
     "output_type": "stream",
     "text": [
      "[[-0.20792884  0.88031098 -0.42640143  0.        ]\n",
      " [ 0.61886113  0.45598244  0.63960215  0.        ]\n",
      " [-0.75748036  0.13089154  0.63960215  0.        ]]\n"
     ]
    }
   ],
   "source": [
    "#2\n",
    "import numpy as np\n",
    "\n",
    "X = np.array([\n",
    "            [0, 0, 6, 0],\n",
    "            [0, 6, 0, 0],\n",
    "            [3, 0, 8, 0]\n",
    "            ])\n",
    "X = X - np.mean(X, axis=0)\n",
    "n,m = X.shape\n",
    "cov_np = np.cov(X, rowvar = False)\n",
    "eigenvalues, eigenvectors = np.linalg.eig(cov_np)\n",
    "print(eigenvectors[0:3])"
   ]
  },
  {
   "cell_type": "code",
   "execution_count": 4,
   "metadata": {},
   "outputs": [
    {
     "name": "stdout",
     "output_type": "stream",
     "text": [
      "[[-1.         -1.33333333  1.33333333  0.        ]\n",
      " [-1.          2.66666667 -4.66666667  0.        ]\n",
      " [ 2.         -1.33333333  3.33333333  0.        ]]\n",
      "3 4\n",
      "[[ 3.         -2.          5.          0.        ]\n",
      " [-2.          5.33333333 -9.33333333  0.        ]\n",
      " [ 5.         -9.33333333 17.33333333  0.        ]\n",
      " [ 0.          0.          0.          0.        ]]\n",
      "[[ 3.         -2.          5.          0.        ]\n",
      " [-2.          5.33333333 -9.33333333  0.        ]\n",
      " [ 5.         -9.33333333 17.33333333  0.        ]\n",
      " [ 0.          0.          0.          0.        ]]\n"
     ]
    }
   ],
   "source": [
    "#1\n",
    "import numpy as np\n",
    "\n",
    "X = np.array([\n",
    "            [0, 0, 6, 0],\n",
    "            [0, 4, 0, 0],\n",
    "            [3, 0, 8, 0]\n",
    "            ])\n",
    "X = X - np.mean(X, axis=0)\n",
    "print(X)\n",
    "\n",
    "n,m = X.shape\n",
    "print(n,m)\n",
    "\n",
    "cov = (X.transpose() @ X)/(n-1)\n",
    "print(cov)\n",
    "\n",
    "cov_np = np.cov(X, rowvar = False)\n",
    "print(cov_np)"
   ]
  },
  {
   "cell_type": "code",
   "execution_count": 10,
   "metadata": {},
   "outputs": [
    {
     "ename": "SyntaxError",
     "evalue": "invalid syntax (<ipython-input-10-410d5aa007d5>, line 1)",
     "output_type": "error",
     "traceback": [
      "\u001b[0;36m  File \u001b[0;32m\"<ipython-input-10-410d5aa007d5>\"\u001b[0;36m, line \u001b[0;32m1\u001b[0m\n\u001b[0;31m    function GaussEliRank(A)\u001b[0m\n\u001b[0m             ^\u001b[0m\n\u001b[0;31mSyntaxError\u001b[0m\u001b[0;31m:\u001b[0m invalid syntax\n"
     ]
    }
   ],
   "source": []
  },
  {
   "cell_type": "code",
   "execution_count": null,
   "metadata": {},
   "outputs": [],
   "source": []
  }
 ],
 "metadata": {
  "kernelspec": {
   "display_name": "Python 3",
   "language": "python",
   "name": "python3"
  },
  "language_info": {
   "codemirror_mode": {
    "name": "ipython",
    "version": 3
   },
   "file_extension": ".py",
   "mimetype": "text/x-python",
   "name": "python",
   "nbconvert_exporter": "python",
   "pygments_lexer": "ipython3",
   "version": "3.8.5"
  }
 },
 "nbformat": 4,
 "nbformat_minor": 4
}
